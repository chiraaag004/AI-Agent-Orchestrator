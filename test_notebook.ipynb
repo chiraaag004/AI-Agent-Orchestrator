{
 "cells": [
  {
   "cell_type": "markdown",
   "metadata": {},
   "source": [
    "## Langfuse Trace Inspector\n",
    "\n",
    "This notebook helps you fetch and inspect a single trace object from your Langfuse project. This is useful for debugging and understanding the data structure before building dashboards."
   ]
  },
  {
   "cell_type": "markdown",
   "metadata": {},
   "source": [
    "### 2. Imports and Setup\n",
    "\n",
    "Import the required libraries and load your environment variables from the `.env` file in your project root. This will configure the Langfuse client automatically."
   ]
  },
  {
   "cell_type": "code",
   "execution_count": 1,
   "metadata": {},
   "outputs": [
    {
     "name": "stdout",
     "output_type": "stream",
     "text": [
      "✅ Langfuse client initialized successfully.\n"
     ]
    }
   ],
   "source": [
    "import os\n",
    "from langfuse import get_client\n",
    "from dotenv import load_dotenv\n",
    "import pandas as pd\n",
    "\n",
    "# Load environment variables from .env file\n",
    "load_dotenv()\n",
    "\n",
    "# Initialize the Langfuse client\n",
    "try:\n",
    "    langfuse_client = get_client()\n",
    "    print(\"✅ Langfuse client initialized successfully.\")\n",
    "except Exception as e:\n",
    "    print(f\"❌ Failed to initialize Langfuse client: {e}\")"
   ]
  },
  {
   "cell_type": "markdown",
   "metadata": {},
   "source": [
    "### 3. Fetch the Latest Trace\n",
    "\n",
    "We'll first list the most recent traces and then fetch the full details for the very latest one."
   ]
  },
  {
   "cell_type": "code",
   "execution_count": 3,
   "metadata": {},
   "outputs": [
    {
     "name": "stdout",
     "output_type": "stream",
     "text": [
      "Found latest trace ID: 791067a9ef9baaa5c1285caca52b2744\n",
      "✅ Successfully fetched the full trace object.\n"
     ]
    }
   ],
   "source": [
    "latest_trace = None\n",
    "\n",
    "try:\n",
    "    # List the 5 most recent traces to find the latest one\n",
    "    trace_list = langfuse_client.api.trace.list(limit=5)\n",
    "\n",
    "    if trace_list.data:\n",
    "        latest_trace_id = trace_list.data[0].id\n",
    "        print(f\"Found latest trace ID: {latest_trace_id}\")\n",
    "        \n",
    "        # Fetch the full trace object using its ID\n",
    "        latest_trace = langfuse_client.api.trace.get(latest_trace_id)\n",
    "        print(\"✅ Successfully fetched the full trace object.\")\n",
    "    else:\n",
    "        print(\"⚠️ No traces found. Please run the agent via 'test_graph.py' to generate a trace.\")\n",
    "except Exception as e:\n",
    "    print(f\"❌ An error occurred while fetching traces: {e}\")"
   ]
  },
  {
   "cell_type": "markdown",
   "metadata": {},
   "source": [
    "### 4. Inspect the Trace Object\n",
    "\n",
    "Now, let's print the full trace object to see its structure and all available fields."
   ]
  },
  {
   "cell_type": "code",
   "execution_count": 4,
   "metadata": {},
   "outputs": [
    {
     "name": "stdout",
     "output_type": "stream",
     "text": [
      "TraceWithFullDetails(id='791067a9ef9baaa5c1285caca52b2744', timestamp=datetime.datetime(2025, 7, 11, 10, 32, 4, 478000, tzinfo=datetime.timezone.utc), name='LangGraph', input={'messages': [{'content': 'Thanks for letting me know the departure city.  To help you plan your trip, please also tell me your travel dates, desired class of service (e.g., economy, business), and preferred airline.', 'additional_kwargs': {}, 'response_metadata': {}, 'type': 'ai', 'name': None, 'id': None, 'example': False, 'tool_calls': [], 'invalid_tool_calls': [], 'usage_metadata': None}, {'content': 'what city I told you', 'additional_kwargs': {}, 'response_metadata': {}, 'type': 'human', 'name': None, 'id': None, 'example': False}], 'detected_language': 'hi-translit', 'original_query': 'what city i told you'}, output=None, session_id=None, release=None, version=None, user_id=None, metadata={'resourceAttributes': {'telemetry.sdk.language': 'python', 'telemetry.sdk.name': 'opentelemetry', 'telemetry.sdk.version': '1.34.1', 'service.name': 'unknown_service'}, 'scope': {'name': 'langfuse-sdk', 'version': '3.1.3', 'attributes': {'public_key': 'pk-lf-c7c009b0-3694-4f68-8072-289c4651b60d'}}}, tags=[], public=False, environment='default', html_path='/project/cmcw9nhci004nad06kf6dx7gz/traces/791067a9ef9baaa5c1285caca52b2744', latency=4.034, total_cost=0.0, observations=[ObservationsView(id='afed2fbae328f0e4', trace_id='791067a9ef9baaa5c1285caca52b2744', type='SPAN', name='LangGraph', start_time=datetime.datetime(2025, 7, 11, 10, 32, 4, 478000, tzinfo=datetime.timezone.utc), end_time=datetime.datetime(2025, 7, 11, 10, 32, 8, 512000, tzinfo=datetime.timezone.utc), completion_start_time=None, model=None, model_parameters=None, input={'messages': [{'content': 'Thanks for letting me know the departure city.  To help you plan your trip, please also tell me your travel dates, desired class of service (e.g., economy, business), and preferred airline.', 'additional_kwargs': {}, 'response_metadata': {}, 'type': 'ai', 'name': None, 'id': None, 'example': False, 'tool_calls': [], 'invalid_tool_calls': [], 'usage_metadata': None}, {'content': 'what city I told you', 'additional_kwargs': {}, 'response_metadata': {}, 'type': 'human', 'name': None, 'id': None, 'example': False}], 'detected_language': 'hi-translit', 'original_query': 'what city i told you'}, version=None, metadata={'resourceAttributes': {'telemetry.sdk.language': 'python', 'telemetry.sdk.name': 'opentelemetry', 'telemetry.sdk.version': '1.34.1', 'service.name': 'unknown_service'}, 'scope': {'name': 'langfuse-sdk', 'version': '3.1.3', 'attributes': {'public_key': 'pk-lf-c7c009b0-3694-4f68-8072-289c4651b60d'}}}, output=None, usage=Usage(input=0, output=0, total=0, unit=<ModelUsageUnit.TOKENS: 'TOKENS'>, input_cost=None, output_cost=None, total_cost=None), level=<ObservationLevel.ERROR: 'ERROR'>, status_message='429 You exceeded your current quota, please check your plan and billing details. For more information on this error, head to: https://ai.google.dev/gemini-api/docs/rate-limits. [violations {\\n  quota_metric: \"generativelanguage.googleapis.com/generate_content_free_tier_requests\"\\n  quota_id: \"GenerateRequestsPerDayPerProjectPerModel-FreeTier\"\\n  quota_dimensions {\\n    key: \"model\"\\n    value: \"gemini-1.5-flash-8b\"\\n  }\\n  quota_dimensions {\\n    key: \"location\"\\n    value: \"global\"\\n  }\\n  quota_value: 50\\n}\\n, links {\\n  description: \"Learn more about Gemini API quotas\"\\n  url: \"https://ai.google.dev/gemini-api/docs/rate-limits\"\\n}\\n, retry_delay {\\n  seconds: 49\\n}\\n]', parent_observation_id=None, prompt_id=None, usage_details={}, cost_details={}, environment='default', prompt_name=None, prompt_version=None, model_id=None, input_price=0.0, output_price=0.0, total_price=0.0, calculated_input_cost=None, calculated_output_cost=None, calculated_total_cost=0.0, latency=4034.0, time_to_first_token=None, completionTokens=0, updatedAt='2025-07-11T10:32:14.327Z', createdAt='2025-07-11T10:32:14.293Z', totalTokens=0, projectId='cmcw9nhci004nad06kf6dx7gz', promptTokens=0, unit='TOKENS'), ObservationsView(id='dab7807e57ba2de3', trace_id='791067a9ef9baaa5c1285caca52b2744', type='GENERATION', name='ChatGoogleGenerativeAI', start_time=datetime.datetime(2025, 7, 11, 10, 32, 5, 908000, tzinfo=datetime.timezone.utc), end_time=datetime.datetime(2025, 7, 11, 10, 32, 8, 510000, tzinfo=datetime.timezone.utc), completion_start_time=None, model='models/gemini-1.5-flash-8b', model_parameters={'temperature': '0.7'}, input=[{'role': 'user', 'content': \"Based on the user's original query and the results from different tasks, synthesize a single, clear, and non-redundant final answer for the user.\\nBe friendly and helpful.\\n\\nUser's Query:\\n---\\nwhat city i told you\\n---\\n\\nTask Results:\\n---\\nRegarding General:\\nPlease provide the city you told me earlier.\\n---\\n\\nFinal Synthesized Response:\"}], version=None, metadata={'tags': ['seq:step:1'], 'langgraph_step': 4, 'langgraph_node': 'summarizer', 'langgraph_triggers': ['branch:to:summarizer'], 'langgraph_path': ['__pregel_pull', 'summarizer'], 'langgraph_checkpoint_ns': 'summarizer:63a26a8d-db20-9b51-a4fe-d56fd40e01a3', 'checkpoint_ns': 'summarizer:63a26a8d-db20-9b51-a4fe-d56fd40e01a3', 'ls_provider': 'google_genai', 'ls_model_name': 'models/gemini-1.5-flash-8b', 'ls_model_type': 'chat', 'ls_temperature': 0.7, 'resourceAttributes': {'telemetry.sdk.language': 'python', 'telemetry.sdk.name': 'opentelemetry', 'telemetry.sdk.version': '1.34.1', 'service.name': 'unknown_service'}, 'scope': {'name': 'langfuse-sdk', 'version': '3.1.3', 'attributes': {'public_key': 'pk-lf-c7c009b0-3694-4f68-8072-289c4651b60d'}}}, output=None, usage=Usage(input=0, output=0, total=0, unit=<ModelUsageUnit.TOKENS: 'TOKENS'>, input_cost=None, output_cost=None, total_cost=None), level=<ObservationLevel.ERROR: 'ERROR'>, status_message='429 You exceeded your current quota, please check your plan and billing details. For more information on this error, head to: https://ai.google.dev/gemini-api/docs/rate-limits. [violations {\\n  quota_metric: \"generativelanguage.googleapis.com/generate_content_free_tier_requests\"\\n  quota_id: \"GenerateRequestsPerDayPerProjectPerModel-FreeTier\"\\n  quota_dimensions {\\n    key: \"model\"\\n    value: \"gemini-1.5-flash-8b\"\\n  }\\n  quota_dimensions {\\n    key: \"location\"\\n    value: \"global\"\\n  }\\n  quota_value: 50\\n}\\n, links {\\n  description: \"Learn more about Gemini API quotas\"\\n  url: \"https://ai.google.dev/gemini-api/docs/rate-limits\"\\n}\\n, retry_delay {\\n  seconds: 49\\n}\\n]', parent_observation_id='fd6aac6c4354db61', prompt_id=None, usage_details={}, cost_details={}, environment='default', prompt_name=None, prompt_version=None, model_id=None, input_price=0.0, output_price=0.0, total_price=0.0, calculated_input_cost=None, calculated_output_cost=None, calculated_total_cost=0.0, latency=2602.0, time_to_first_token=None, completionTokens=0, updatedAt='2025-07-11T10:32:14.325Z', createdAt='2025-07-11T10:32:14.291Z', totalTokens=0, projectId='cmcw9nhci004nad06kf6dx7gz', promptTokens=0, unit='TOKENS'), ObservationsView(id='fd6aac6c4354db61', trace_id='791067a9ef9baaa5c1285caca52b2744', type='SPAN', name='summarizer', start_time=datetime.datetime(2025, 7, 11, 10, 32, 5, 906000, tzinfo=datetime.timezone.utc), end_time=datetime.datetime(2025, 7, 11, 10, 32, 8, 511000, tzinfo=datetime.timezone.utc), completion_start_time=None, model=None, model_parameters=None, input={'original_query': 'what city i told you', 'detected_language': 'hi-translit', 'messages': [{'content': 'Thanks for letting me know the departure city.  To help you plan your trip, please also tell me your travel dates, desired class of service (e.g., economy, business), and preferred airline.', 'additional_kwargs': {}, 'response_metadata': {}, 'type': 'ai', 'name': None, 'id': None, 'example': False, 'tool_calls': [], 'invalid_tool_calls': [], 'usage_metadata': None}, {'content': 'what city I told you', 'additional_kwargs': {}, 'response_metadata': {}, 'type': 'human', 'name': None, 'id': None, 'example': False}], 'intents': ['general'], 'confidence': 90, 'processed_intents': ['general'], 'last_completed_intent': 'general', 'output': 'Please provide the city you told me earlier.', 'aggregated_output': 'Regarding General:\\nPlease provide the city you told me earlier.'}, version=None, metadata={'tags': ['graph:step:4'], 'langgraph_step': 4, 'langgraph_node': 'summarizer', 'langgraph_triggers': ['branch:to:summarizer'], 'langgraph_path': ['__pregel_pull', 'summarizer'], 'langgraph_checkpoint_ns': 'summarizer:63a26a8d-db20-9b51-a4fe-d56fd40e01a3', 'resourceAttributes': {'telemetry.sdk.language': 'python', 'telemetry.sdk.name': 'opentelemetry', 'telemetry.sdk.version': '1.34.1', 'service.name': 'unknown_service'}, 'scope': {'name': 'langfuse-sdk', 'version': '3.1.3', 'attributes': {'public_key': 'pk-lf-c7c009b0-3694-4f68-8072-289c4651b60d'}}}, output=None, usage=Usage(input=0, output=0, total=0, unit=<ModelUsageUnit.TOKENS: 'TOKENS'>, input_cost=None, output_cost=None, total_cost=None), level=<ObservationLevel.ERROR: 'ERROR'>, status_message='429 You exceeded your current quota, please check your plan and billing details. For more information on this error, head to: https://ai.google.dev/gemini-api/docs/rate-limits. [violations {\\n  quota_metric: \"generativelanguage.googleapis.com/generate_content_free_tier_requests\"\\n  quota_id: \"GenerateRequestsPerDayPerProjectPerModel-FreeTier\"\\n  quota_dimensions {\\n    key: \"model\"\\n    value: \"gemini-1.5-flash-8b\"\\n  }\\n  quota_dimensions {\\n    key: \"location\"\\n    value: \"global\"\\n  }\\n  quota_value: 50\\n}\\n, links {\\n  description: \"Learn more about Gemini API quotas\"\\n  url: \"https://ai.google.dev/gemini-api/docs/rate-limits\"\\n}\\n, retry_delay {\\n  seconds: 49\\n}\\n]', parent_observation_id='afed2fbae328f0e4', prompt_id=None, usage_details={}, cost_details={}, environment='default', prompt_name=None, prompt_version=None, model_id=None, input_price=0.0, output_price=0.0, total_price=0.0, calculated_input_cost=None, calculated_output_cost=None, calculated_total_cost=0.0, latency=2605.0, time_to_first_token=None, completionTokens=0, updatedAt='2025-07-11T10:32:14.322Z', createdAt='2025-07-11T10:32:14.291Z', totalTokens=0, projectId='cmcw9nhci004nad06kf6dx7gz', promptTokens=0, unit='TOKENS'), ObservationsView(id='18efb9b13636a63e', trace_id='791067a9ef9baaa5c1285caca52b2744', type='GENERATION', name='ChatGoogleGenerativeAI', start_time=datetime.datetime(2025, 7, 11, 10, 32, 4, 482000, tzinfo=datetime.timezone.utc), end_time=datetime.datetime(2025, 7, 11, 10, 32, 5, 149000, tzinfo=datetime.timezone.utc), completion_start_time=None, model='models/gemini-1.5-flash-8b', model_parameters={'temperature': '0.7'}, input=[{'role': 'user', 'content': 'You are an expert intent classifier for a travel assistant. Your task is to analyze a user\\'s query and identify all relevant intents from a given list.\\n\\nYou must respond with a JSON object containing a list of identified intents and a confidence score from 0 to 100.\\n\\n**Categories:**\\n[\"flight_booking_manager\", \"support_agent\", \"flight_information\", \"emergency_services\", \"general\"]\\n\\n**Instructions:**\\n- If the query matches one or more categories, include them in the \"intents\" list. Make sure you try to find all the intents in the query.\\n- If the query is a general question, a greeting, or does not fit any specific category, use only the \"general\" intent.\\n- If the user is asking *about* a service or policy (e.g., \"what is your policy on X\", \"how do I do Y\"), use the \"faq_lookup\" intent.\\n- If the user is asking to *perform* an action (e.g., \"cancel my flight\", \"check my status\"), use the specific action intent (e.g., \"cancel_booking\", \"flight_status\").\\n- The confidence score should reflect your certainty in the overall classification.\\n\\n**Example:**\\nUser query: \"Hi, I need to check the status of my flight to JFK and also see about cancelling my hotel booking.\"\\nOutput JSON:\\n{\\n  \"intents\": [\"flight_status\", \"cancel_booking\"],\\n  \"confidence\": 95\\n}\\n\\n---\\n\\n**User query:** what city I told you\\n**Output JSON:**\\n'}], version=None, metadata={'tags': ['seq:step:1'], 'langgraph_step': 1, 'langgraph_node': 'llm_router', 'langgraph_triggers': ['branch:to:llm_router'], 'langgraph_path': ['__pregel_pull', 'llm_router'], 'langgraph_checkpoint_ns': 'llm_router:49d7aecc-e98a-903f-c605-c40864cc345b', 'checkpoint_ns': 'llm_router:49d7aecc-e98a-903f-c605-c40864cc345b', 'ls_provider': 'google_genai', 'ls_model_name': 'models/gemini-1.5-flash-8b', 'ls_model_type': 'chat', 'ls_temperature': 0.7, 'resourceAttributes': {'telemetry.sdk.language': 'python', 'telemetry.sdk.name': 'opentelemetry', 'telemetry.sdk.version': '1.34.1', 'service.name': 'unknown_service'}, 'scope': {'name': 'langfuse-sdk', 'version': '3.1.3', 'attributes': {'public_key': 'pk-lf-c7c009b0-3694-4f68-8072-289c4651b60d'}}}, output={'role': 'assistant', 'content': '```json\\n{\\n  \"intents\": [\"general\"],\\n  \"confidence\": 90\\n}\\n```'}, usage=Usage(input=341, output=26, total=367, unit=<ModelUsageUnit.TOKENS: 'TOKENS'>, input_cost=None, output_cost=None, total_cost=None), level=<ObservationLevel.DEFAULT: 'DEFAULT'>, status_message=None, parent_observation_id='45fbb86b95531442', prompt_id=None, usage_details={'input': 341, 'output': 26, 'total': 367, 'input_cache_read': 0}, cost_details={}, environment='default', prompt_name=None, prompt_version=None, model_id=None, input_price=0.0, output_price=0.0, total_price=0.0, calculated_input_cost=None, calculated_output_cost=None, calculated_total_cost=0.0, latency=667.0, time_to_first_token=None, completionTokens=26, updatedAt='2025-07-11T10:32:08.883Z', createdAt='2025-07-11T10:32:08.836Z', totalTokens=367, projectId='cmcw9nhci004nad06kf6dx7gz', promptTokens=341, unit='TOKENS'), ObservationsView(id='6972063bc3960e0d', trace_id='791067a9ef9baaa5c1285caca52b2744', type='SPAN', name='continuation_router', start_time=datetime.datetime(2025, 7, 11, 10, 32, 5, 901000, tzinfo=datetime.timezone.utc), end_time=datetime.datetime(2025, 7, 11, 10, 32, 5, 902000, tzinfo=datetime.timezone.utc), completion_start_time=None, model=None, model_parameters=None, input={'original_query': 'what city i told you', 'detected_language': 'hi-translit', 'messages': [{'content': 'Thanks for letting me know the departure city.  To help you plan your trip, please also tell me your travel dates, desired class of service (e.g., economy, business), and preferred airline.', 'additional_kwargs': {}, 'response_metadata': {}, 'type': 'ai', 'name': None, 'id': None, 'example': False, 'tool_calls': [], 'invalid_tool_calls': [], 'usage_metadata': None}, {'content': 'what city I told you', 'additional_kwargs': {}, 'response_metadata': {}, 'type': 'human', 'name': None, 'id': None, 'example': False}], 'intents': ['general'], 'confidence': 90, 'processed_intents': ['general'], 'last_completed_intent': 'general', 'output': 'Please provide the city you told me earlier.', 'aggregated_output': 'Regarding General:\\nPlease provide the city you told me earlier.'}, version=None, metadata={'tags': ['seq:step:3'], 'langgraph_step': 3, 'langgraph_node': 'aggregator', 'langgraph_triggers': ['branch:to:aggregator'], 'langgraph_path': ['__pregel_pull', 'aggregator'], 'langgraph_checkpoint_ns': 'aggregator:b50276d3-56f4-4c74-ba8c-3f145626e362', 'resourceAttributes': {'telemetry.sdk.language': 'python', 'telemetry.sdk.name': 'opentelemetry', 'telemetry.sdk.version': '1.34.1', 'service.name': 'unknown_service'}, 'scope': {'name': 'langfuse-sdk', 'version': '3.1.3', 'attributes': {'public_key': 'pk-lf-c7c009b0-3694-4f68-8072-289c4651b60d'}}}, output='FINISH', usage=Usage(input=0, output=0, total=0, unit=<ModelUsageUnit.TOKENS: 'TOKENS'>, input_cost=None, output_cost=None, total_cost=None), level=<ObservationLevel.DEFAULT: 'DEFAULT'>, status_message=None, parent_observation_id='5fff62575e4c6485', prompt_id=None, usage_details={}, cost_details={}, environment='default', prompt_name=None, prompt_version=None, model_id=None, input_price=0.0, output_price=0.0, total_price=0.0, calculated_input_cost=None, calculated_output_cost=None, calculated_total_cost=0.0, latency=1.0, time_to_first_token=None, completionTokens=0, updatedAt='2025-07-11T10:32:08.877Z', createdAt='2025-07-11T10:32:08.836Z', totalTokens=0, projectId='cmcw9nhci004nad06kf6dx7gz', promptTokens=0, unit='TOKENS'), ObservationsView(id='72a0047071131117', trace_id='791067a9ef9baaa5c1285caca52b2744', type='SPAN', name='Prompt', start_time=datetime.datetime(2025, 7, 11, 10, 32, 5, 207000, tzinfo=datetime.timezone.utc), end_time=datetime.datetime(2025, 7, 11, 10, 32, 5, 208000, tzinfo=datetime.timezone.utc), completion_start_time=None, model=None, model_parameters=None, input={'messages': [{'content': \"You are an expert AI travel assistant. Your goal is to resolve the user's request efficiently.\\nYour objective is to resolve the user’s request completely before ending your turn.\\n<INSTRUCTIONS>\\n1. Tool Usage  \\n   - If you lack information, use your tools to fetch and verify data.  \\n   - Never guess or hallucinate—always base your answer on gathered facts.\\n\\n2. Planning Before Action  \\n   - Before each function call, write a brief plan:  \\n     - What you intend to do  \\n     - Which tool or function you’ll use  \\n     - What inputs you’ll provide  \\n     - What outcome you expect\\n\\n3. Reflection After Action  \\n   - After every function call, analyze the result:  \\n     - Did it answer your question?  \\n     - What’s the next step?  \\n   - Update your plan as needed before proceeding.\\n\\n4. Sub‑agent Coordination\\n   - All sub‑agents report to you. You synthesize their outputs and craft the final message.\\n\\n5. Response Style  \\n   - Keep your voice clear, consistent, and user‑focused.  \\n   - Only conclude your turn once you’re certain the user’s problem is fully solved.\\n</INSTRUCTIONS>\\n\\nYou are a specialized sub-agent focused on a single task.\\nYour current task is to: **handle a general user request that did not fit a specific category**.\\n\\nReview the entire conversation history below to gather all necessary information (like booking IDs, destinations, or dates) to complete your task.\\n\\nConversation History:\\nai: Thanks for letting me know the departure city.  To help you plan your trip, please also tell me your travel dates, desired class of service (e.g., economy, business), and preferred airline.\\nhuman: what city I told you\", 'additional_kwargs': {}, 'response_metadata': {}, 'type': 'system', 'name': None, 'id': '7cdaa282-e25b-491c-9f84-9974e8f618d7'}, {'content': 'Thanks for letting me know the departure city.  To help you plan your trip, please also tell me your travel dates, desired class of service (e.g., economy, business), and preferred airline.', 'additional_kwargs': {}, 'response_metadata': {}, 'type': 'ai', 'name': None, 'id': '3caad41b-5158-477c-9d23-f136d6bcd9cb', 'example': False, 'tool_calls': [], 'invalid_tool_calls': [], 'usage_metadata': None}, {'content': 'what city I told you', 'additional_kwargs': {}, 'response_metadata': {}, 'type': 'human', 'name': None, 'id': '8de1a14b-388e-41e2-adf7-fde355d2e145', 'example': False}], 'is_last_step': False, 'remaining_steps': 24}, version=None, metadata={'tags': ['seq:step:1'], 'langgraph_step': 1, 'langgraph_node': 'agent', 'langgraph_triggers': ['branch:to:agent'], 'langgraph_path': ['__pregel_pull', 'agent'], 'langgraph_checkpoint_ns': 'general:fc88c35c-7c5f-655a-b459-5a03c9f79598|agent:b20e3375-cd09-52a9-ac9a-0446d0a5f571', 'checkpoint_ns': 'general:fc88c35c-7c5f-655a-b459-5a03c9f79598', 'resourceAttributes': {'telemetry.sdk.language': 'python', 'telemetry.sdk.name': 'opentelemetry', 'telemetry.sdk.version': '1.34.1', 'service.name': 'unknown_service'}, 'scope': {'name': 'langfuse-sdk', 'version': '3.1.3', 'attributes': {'public_key': 'pk-lf-c7c009b0-3694-4f68-8072-289c4651b60d'}}}, output=[{'content': \"You are an expert AI travel assistant. Your goal is to resolve the user's request efficiently.\\nYour objective is to resolve the user’s request completely before ending your turn.\\n<INSTRUCTIONS>\\n1. Tool Usage  \\n   - If you lack information, use your tools to fetch and verify data.  \\n   - Never guess or hallucinate—always base your answer on gathered facts.\\n\\n2. Planning Before Action  \\n   - Before each function call, write a brief plan:  \\n     - What you intend to do  \\n     - Which tool or function you’ll use  \\n     - What inputs you’ll provide  \\n     - What outcome you expect\\n\\n3. Reflection After Action  \\n   - After every function call, analyze the result:  \\n     - Did it answer your question?  \\n     - What’s the next step?  \\n   - Update your plan as needed before proceeding.\\n\\n4. Sub‑agent Coordination\\n   - All sub‑agents report to you. You synthesize their outputs and craft the final message.\\n\\n5. Response Style  \\n   - Keep your voice clear, consistent, and user‑focused.  \\n   - Only conclude your turn once you’re certain the user’s problem is fully solved.\\n</INSTRUCTIONS>\\n\\nYou are a specialized sub-agent focused on a single task.\\nYour current task is to: **handle a general user request that did not fit a specific category**.\\n\\nReview the entire conversation history below to gather all necessary information (like booking IDs, destinations, or dates) to complete your task.\\n\\nConversation History:\\nai: Thanks for letting me know the departure city.  To help you plan your trip, please also tell me your travel dates, desired class of service (e.g., economy, business), and preferred airline.\\nhuman: what city I told you\", 'additional_kwargs': {}, 'response_metadata': {}, 'type': 'system', 'name': None, 'id': '7cdaa282-e25b-491c-9f84-9974e8f618d7'}, {'content': 'Thanks for letting me know the departure city.  To help you plan your trip, please also tell me your travel dates, desired class of service (e.g., economy, business), and preferred airline.', 'additional_kwargs': {}, 'response_metadata': {}, 'type': 'ai', 'name': None, 'id': '3caad41b-5158-477c-9d23-f136d6bcd9cb', 'example': False, 'tool_calls': [], 'invalid_tool_calls': [], 'usage_metadata': None}, {'content': 'what city I told you', 'additional_kwargs': {}, 'response_metadata': {}, 'type': 'human', 'name': None, 'id': '8de1a14b-388e-41e2-adf7-fde355d2e145', 'example': False}], usage=Usage(input=0, output=0, total=0, unit=<ModelUsageUnit.TOKENS: 'TOKENS'>, input_cost=None, output_cost=None, total_cost=None), level=<ObservationLevel.DEFAULT: 'DEFAULT'>, status_message=None, parent_observation_id='2516502cac3761b2', prompt_id=None, usage_details={}, cost_details={}, environment='default', prompt_name=None, prompt_version=None, model_id=None, input_price=0.0, output_price=0.0, total_price=0.0, calculated_input_cost=None, calculated_output_cost=None, calculated_total_cost=0.0, latency=1.0, time_to_first_token=None, completionTokens=0, updatedAt='2025-07-11T10:32:08.864Z', createdAt='2025-07-11T10:32:08.836Z', totalTokens=0, projectId='cmcw9nhci004nad06kf6dx7gz', promptTokens=0, unit='TOKENS'), ObservationsView(id='d35ed6d2ea950655', trace_id='791067a9ef9baaa5c1285caca52b2744', type='SPAN', name='initial_router', start_time=datetime.datetime(2025, 7, 11, 10, 32, 5, 150000, tzinfo=datetime.timezone.utc), end_time=datetime.datetime(2025, 7, 11, 10, 32, 5, 151000, tzinfo=datetime.timezone.utc), completion_start_time=None, model=None, model_parameters=None, input={'original_query': 'what city i told you', 'detected_language': 'hi-translit', 'messages': [{'content': 'Thanks for letting me know the departure city.  To help you plan your trip, please also tell me your travel dates, desired class of service (e.g., economy, business), and preferred airline.', 'additional_kwargs': {}, 'response_metadata': {}, 'type': 'ai', 'name': None, 'id': None, 'example': False, 'tool_calls': [], 'invalid_tool_calls': [], 'usage_metadata': None}, {'content': 'what city I told you', 'additional_kwargs': {}, 'response_metadata': {}, 'type': 'human', 'name': None, 'id': None, 'example': False}], 'intents': ['general'], 'confidence': 90}, version=None, metadata={'tags': ['seq:step:3'], 'langgraph_step': 1, 'langgraph_node': 'llm_router', 'langgraph_triggers': ['branch:to:llm_router'], 'langgraph_path': ['__pregel_pull', 'llm_router'], 'langgraph_checkpoint_ns': 'llm_router:49d7aecc-e98a-903f-c605-c40864cc345b', 'resourceAttributes': {'telemetry.sdk.language': 'python', 'telemetry.sdk.name': 'opentelemetry', 'telemetry.sdk.version': '1.34.1', 'service.name': 'unknown_service'}, 'scope': {'name': 'langfuse-sdk', 'version': '3.1.3', 'attributes': {'public_key': 'pk-lf-c7c009b0-3694-4f68-8072-289c4651b60d'}}}, output='general', usage=Usage(input=0, output=0, total=0, unit=<ModelUsageUnit.TOKENS: 'TOKENS'>, input_cost=None, output_cost=None, total_cost=None), level=<ObservationLevel.DEFAULT: 'DEFAULT'>, status_message=None, parent_observation_id='45fbb86b95531442', prompt_id=None, usage_details={}, cost_details={}, environment='default', prompt_name=None, prompt_version=None, model_id=None, input_price=0.0, output_price=0.0, total_price=0.0, calculated_input_cost=None, calculated_output_cost=None, calculated_total_cost=0.0, latency=1.0, time_to_first_token=None, completionTokens=0, updatedAt='2025-07-11T10:32:08.864Z', createdAt='2025-07-11T10:32:08.835Z', totalTokens=0, projectId='cmcw9nhci004nad06kf6dx7gz', promptTokens=0, unit='TOKENS'), ObservationsView(id='09f0f2a04a3ae1cd', trace_id='791067a9ef9baaa5c1285caca52b2744', type='SPAN', name='LangGraph', start_time=datetime.datetime(2025, 7, 11, 10, 32, 5, 200000, tzinfo=datetime.timezone.utc), end_time=datetime.datetime(2025, 7, 11, 10, 32, 5, 897000, tzinfo=datetime.timezone.utc), completion_start_time=None, model=None, model_parameters=None, input={'messages': [{'content': \"You are an expert AI travel assistant. Your goal is to resolve the user's request efficiently.\\nYour objective is to resolve the user’s request completely before ending your turn.\\n<INSTRUCTIONS>\\n1. Tool Usage  \\n   - If you lack information, use your tools to fetch and verify data.  \\n   - Never guess or hallucinate—always base your answer on gathered facts.\\n\\n2. Planning Before Action  \\n   - Before each function call, write a brief plan:  \\n     - What you intend to do  \\n     - Which tool or function you’ll use  \\n     - What inputs you’ll provide  \\n     - What outcome you expect\\n\\n3. Reflection After Action  \\n   - After every function call, analyze the result:  \\n     - Did it answer your question?  \\n     - What’s the next step?  \\n   - Update your plan as needed before proceeding.\\n\\n4. Sub‑agent Coordination\\n   - All sub‑agents report to you. You synthesize their outputs and craft the final message.\\n\\n5. Response Style  \\n   - Keep your voice clear, consistent, and user‑focused.  \\n   - Only conclude your turn once you’re certain the user’s problem is fully solved.\\n</INSTRUCTIONS>\\n\\nYou are a specialized sub-agent focused on a single task.\\nYour current task is to: **handle a general user request that did not fit a specific category**.\\n\\nReview the entire conversation history below to gather all necessary information (like booking IDs, destinations, or dates) to complete your task.\\n\\nConversation History:\\nai: Thanks for letting me know the departure city.  To help you plan your trip, please also tell me your travel dates, desired class of service (e.g., economy, business), and preferred airline.\\nhuman: what city I told you\", 'additional_kwargs': {}, 'response_metadata': {}, 'type': 'system', 'name': None, 'id': None}, {'content': 'Thanks for letting me know the departure city.  To help you plan your trip, please also tell me your travel dates, desired class of service (e.g., economy, business), and preferred airline.', 'additional_kwargs': {}, 'response_metadata': {}, 'type': 'ai', 'name': None, 'id': None, 'example': False, 'tool_calls': [], 'invalid_tool_calls': [], 'usage_metadata': None}, {'content': 'what city I told you', 'additional_kwargs': {}, 'response_metadata': {}, 'type': 'human', 'name': None, 'id': None, 'example': False}]}, version=None, metadata={'tags': ['seq:step:1'], 'langgraph_step': 2, 'langgraph_node': 'general', 'langgraph_triggers': ['branch:to:general'], 'langgraph_path': ['__pregel_pull', 'general'], 'langgraph_checkpoint_ns': 'general:fc88c35c-7c5f-655a-b459-5a03c9f79598', 'checkpoint_ns': 'general:fc88c35c-7c5f-655a-b459-5a03c9f79598', 'resourceAttributes': {'telemetry.sdk.language': 'python', 'telemetry.sdk.name': 'opentelemetry', 'telemetry.sdk.version': '1.34.1', 'service.name': 'unknown_service'}, 'scope': {'name': 'langfuse-sdk', 'version': '3.1.3', 'attributes': {'public_key': 'pk-lf-c7c009b0-3694-4f68-8072-289c4651b60d'}}}, output={'messages': [{'content': \"You are an expert AI travel assistant. Your goal is to resolve the user's request efficiently.\\nYour objective is to resolve the user’s request completely before ending your turn.\\n<INSTRUCTIONS>\\n1. Tool Usage  \\n   - If you lack information, use your tools to fetch and verify data.  \\n   - Never guess or hallucinate—always base your answer on gathered facts.\\n\\n2. Planning Before Action  \\n   - Before each function call, write a brief plan:  \\n     - What you intend to do  \\n     - Which tool or function you’ll use  \\n     - What inputs you’ll provide  \\n     - What outcome you expect\\n\\n3. Reflection After Action  \\n   - After every function call, analyze the result:  \\n     - Did it answer your question?  \\n     - What’s the next step?  \\n   - Update your plan as needed before proceeding.\\n\\n4. Sub‑agent Coordination\\n   - All sub‑agents report to you. You synthesize their outputs and craft the final message.\\n\\n5. Response Style  \\n   - Keep your voice clear, consistent, and user‑focused.  \\n   - Only conclude your turn once you’re certain the user’s problem is fully solved.\\n</INSTRUCTIONS>\\n\\nYou are a specialized sub-agent focused on a single task.\\nYour current task is to: **handle a general user request that did not fit a specific category**.\\n\\nReview the entire conversation history below to gather all necessary information (like booking IDs, destinations, or dates) to complete your task.\\n\\nConversation History:\\nai: Thanks for letting me know the departure city.  To help you plan your trip, please also tell me your travel dates, desired class of service (e.g., economy, business), and preferred airline.\\nhuman: what city I told you\", 'additional_kwargs': {}, 'response_metadata': {}, 'type': 'system', 'name': None, 'id': '7cdaa282-e25b-491c-9f84-9974e8f618d7'}, {'content': 'Thanks for letting me know the departure city.  To help you plan your trip, please also tell me your travel dates, desired class of service (e.g., economy, business), and preferred airline.', 'additional_kwargs': {}, 'response_metadata': {}, 'type': 'ai', 'name': None, 'id': '3caad41b-5158-477c-9d23-f136d6bcd9cb', 'example': False, 'tool_calls': [], 'invalid_tool_calls': [], 'usage_metadata': None}, {'content': 'what city I told you', 'additional_kwargs': {}, 'response_metadata': {}, 'type': 'human', 'name': None, 'id': '8de1a14b-388e-41e2-adf7-fde355d2e145', 'example': False}, {'content': 'Please provide the city you told me earlier.', 'additional_kwargs': {}, 'response_metadata': {'prompt_feedback': {'block_reason': 0, 'safety_ratings': []}, 'finish_reason': 'STOP', 'safety_ratings': [{'category': 'HARM_CATEGORY_HATE_SPEECH', 'probability': 'NEGLIGIBLE', 'blocked': False}, {'category': 'HARM_CATEGORY_DANGEROUS_CONTENT', 'probability': 'NEGLIGIBLE', 'blocked': False}, {'category': 'HARM_CATEGORY_HARASSMENT', 'probability': 'NEGLIGIBLE', 'blocked': False}, {'category': 'HARM_CATEGORY_SEXUALLY_EXPLICIT', 'probability': 'NEGLIGIBLE', 'blocked': False}]}, 'type': 'ai', 'name': None, 'id': 'run--95fc104f-0df6-463a-8d10-d1de7893938b-0', 'example': False, 'tool_calls': [], 'invalid_tool_calls': [], 'usage_metadata': {'input_tokens': 647, 'output_tokens': 10, 'total_tokens': 657, 'input_token_details': {'cache_read': 0}}}]}, usage=Usage(input=0, output=0, total=0, unit=<ModelUsageUnit.TOKENS: 'TOKENS'>, input_cost=None, output_cost=None, total_cost=None), level=<ObservationLevel.DEFAULT: 'DEFAULT'>, status_message=None, parent_observation_id='b45b5f0a4c9adb1a', prompt_id=None, usage_details={}, cost_details={}, environment='default', prompt_name=None, prompt_version=None, model_id=None, input_price=0.0, output_price=0.0, total_price=0.0, calculated_input_cost=None, calculated_output_cost=None, calculated_total_cost=0.0, latency=697.0, time_to_first_token=None, completionTokens=0, updatedAt='2025-07-11T10:32:08.863Z', createdAt='2025-07-11T10:32:08.837Z', totalTokens=0, projectId='cmcw9nhci004nad06kf6dx7gz', promptTokens=0, unit='TOKENS'), ObservationsView(id='5667fe73d7478821', trace_id='791067a9ef9baaa5c1285caca52b2744', type='SPAN', name='should_continue', start_time=datetime.datetime(2025, 7, 11, 10, 32, 5, 892000, tzinfo=datetime.timezone.utc), end_time=datetime.datetime(2025, 7, 11, 10, 32, 5, 894000, tzinfo=datetime.timezone.utc), completion_start_time=None, model=None, model_parameters=None, input={'messages': [{'content': \"You are an expert AI travel assistant. Your goal is to resolve the user's request efficiently.\\nYour objective is to resolve the user’s request completely before ending your turn.\\n<INSTRUCTIONS>\\n1. Tool Usage  \\n   - If you lack information, use your tools to fetch and verify data.  \\n   - Never guess or hallucinate—always base your answer on gathered facts.\\n\\n2. Planning Before Action  \\n   - Before each function call, write a brief plan:  \\n     - What you intend to do  \\n     - Which tool or function you’ll use  \\n     - What inputs you’ll provide  \\n     - What outcome you expect\\n\\n3. Reflection After Action  \\n   - After every function call, analyze the result:  \\n     - Did it answer your question?  \\n     - What’s the next step?  \\n   - Update your plan as needed before proceeding.\\n\\n4. Sub‑agent Coordination\\n   - All sub‑agents report to you. You synthesize their outputs and craft the final message.\\n\\n5. Response Style  \\n   - Keep your voice clear, consistent, and user‑focused.  \\n   - Only conclude your turn once you’re certain the user’s problem is fully solved.\\n</INSTRUCTIONS>\\n\\nYou are a specialized sub-agent focused on a single task.\\nYour current task is to: **handle a general user request that did not fit a specific category**.\\n\\nReview the entire conversation history below to gather all necessary information (like booking IDs, destinations, or dates) to complete your task.\\n\\nConversation History:\\nai: Thanks for letting me know the departure city.  To help you plan your trip, please also tell me your travel dates, desired class of service (e.g., economy, business), and preferred airline.\\nhuman: what city I told you\", 'additional_kwargs': {}, 'response_metadata': {}, 'type': 'system', 'name': None, 'id': '7cdaa282-e25b-491c-9f84-9974e8f618d7'}, {'content': 'Thanks for letting me know the departure city.  To help you plan your trip, please also tell me your travel dates, desired class of service (e.g., economy, business), and preferred airline.', 'additional_kwargs': {}, 'response_metadata': {}, 'type': 'ai', 'name': None, 'id': '3caad41b-5158-477c-9d23-f136d6bcd9cb', 'example': False, 'tool_calls': [], 'invalid_tool_calls': [], 'usage_metadata': None}, {'content': 'what city I told you', 'additional_kwargs': {}, 'response_metadata': {}, 'type': 'human', 'name': None, 'id': '8de1a14b-388e-41e2-adf7-fde355d2e145', 'example': False}, {'content': 'Please provide the city you told me earlier.', 'additional_kwargs': {}, 'response_metadata': {'prompt_feedback': {'block_reason': 0, 'safety_ratings': []}, 'finish_reason': 'STOP', 'safety_ratings': [{'category': 'HARM_CATEGORY_HATE_SPEECH', 'probability': 'NEGLIGIBLE', 'blocked': False}, {'category': 'HARM_CATEGORY_DANGEROUS_CONTENT', 'probability': 'NEGLIGIBLE', 'blocked': False}, {'category': 'HARM_CATEGORY_HARASSMENT', 'probability': 'NEGLIGIBLE', 'blocked': False}, {'category': 'HARM_CATEGORY_SEXUALLY_EXPLICIT', 'probability': 'NEGLIGIBLE', 'blocked': False}]}, 'type': 'ai', 'name': None, 'id': 'run--95fc104f-0df6-463a-8d10-d1de7893938b-0', 'example': False, 'tool_calls': [], 'invalid_tool_calls': [], 'usage_metadata': {'input_tokens': 647, 'output_tokens': 10, 'total_tokens': 657, 'input_token_details': {'cache_read': 0}}}], 'is_last_step': False, 'remaining_steps': 24}, version=None, metadata={'tags': ['seq:step:3'], 'langgraph_step': 1, 'langgraph_node': 'agent', 'langgraph_triggers': ['branch:to:agent'], 'langgraph_path': ['__pregel_pull', 'agent'], 'langgraph_checkpoint_ns': 'general:fc88c35c-7c5f-655a-b459-5a03c9f79598|agent:b20e3375-cd09-52a9-ac9a-0446d0a5f571', 'checkpoint_ns': 'general:fc88c35c-7c5f-655a-b459-5a03c9f79598', 'resourceAttributes': {'telemetry.sdk.language': 'python', 'telemetry.sdk.name': 'opentelemetry', 'telemetry.sdk.version': '1.34.1', 'service.name': 'unknown_service'}, 'scope': {'name': 'langfuse-sdk', 'version': '3.1.3', 'attributes': {'public_key': 'pk-lf-c7c009b0-3694-4f68-8072-289c4651b60d'}}}, output='__end__', usage=Usage(input=0, output=0, total=0, unit=<ModelUsageUnit.TOKENS: 'TOKENS'>, input_cost=None, output_cost=None, total_cost=None), level=<ObservationLevel.DEFAULT: 'DEFAULT'>, status_message=None, parent_observation_id='b951556c46b27827', prompt_id=None, usage_details={}, cost_details={}, environment='default', prompt_name=None, prompt_version=None, model_id=None, input_price=0.0, output_price=0.0, total_price=0.0, calculated_input_cost=None, calculated_output_cost=None, calculated_total_cost=0.0, latency=2.0, time_to_first_token=None, completionTokens=0, updatedAt='2025-07-11T10:32:08.862Z', createdAt='2025-07-11T10:32:08.836Z', totalTokens=0, projectId='cmcw9nhci004nad06kf6dx7gz', promptTokens=0, unit='TOKENS'), ObservationsView(id='b951556c46b27827', trace_id='791067a9ef9baaa5c1285caca52b2744', type='SPAN', name='agent', start_time=datetime.datetime(2025, 7, 11, 10, 32, 5, 203000, tzinfo=datetime.timezone.utc), end_time=datetime.datetime(2025, 7, 11, 10, 32, 5, 895000, tzinfo=datetime.timezone.utc), completion_start_time=None, model=None, model_parameters=None, input={'messages': [{'content': \"You are an expert AI travel assistant. Your goal is to resolve the user's request efficiently.\\nYour objective is to resolve the user’s request completely before ending your turn.\\n<INSTRUCTIONS>\\n1. Tool Usage  \\n   - If you lack information, use your tools to fetch and verify data.  \\n   - Never guess or hallucinate—always base your answer on gathered facts.\\n\\n2. Planning Before Action  \\n   - Before each function call, write a brief plan:  \\n     - What you intend to do  \\n     - Which tool or function you’ll use  \\n     - What inputs you’ll provide  \\n     - What outcome you expect\\n\\n3. Reflection After Action  \\n   - After every function call, analyze the result:  \\n     - Did it answer your question?  \\n     - What’s the next step?  \\n   - Update your plan as needed before proceeding.\\n\\n4. Sub‑agent Coordination\\n   - All sub‑agents report to you. You synthesize their outputs and craft the final message.\\n\\n5. Response Style  \\n   - Keep your voice clear, consistent, and user‑focused.  \\n   - Only conclude your turn once you’re certain the user’s problem is fully solved.\\n</INSTRUCTIONS>\\n\\nYou are a specialized sub-agent focused on a single task.\\nYour current task is to: **handle a general user request that did not fit a specific category**.\\n\\nReview the entire conversation history below to gather all necessary information (like booking IDs, destinations, or dates) to complete your task.\\n\\nConversation History:\\nai: Thanks for letting me know the departure city.  To help you plan your trip, please also tell me your travel dates, desired class of service (e.g., economy, business), and preferred airline.\\nhuman: what city I told you\", 'additional_kwargs': {}, 'response_metadata': {}, 'type': 'system', 'name': None, 'id': '7cdaa282-e25b-491c-9f84-9974e8f618d7'}, {'content': 'Thanks for letting me know the departure city.  To help you plan your trip, please also tell me your travel dates, desired class of service (e.g., economy, business), and preferred airline.', 'additional_kwargs': {}, 'response_metadata': {}, 'type': 'ai', 'name': None, 'id': '3caad41b-5158-477c-9d23-f136d6bcd9cb', 'example': False, 'tool_calls': [], 'invalid_tool_calls': [], 'usage_metadata': None}, {'content': 'what city I told you', 'additional_kwargs': {}, 'response_metadata': {}, 'type': 'human', 'name': None, 'id': '8de1a14b-388e-41e2-adf7-fde355d2e145', 'example': False}], 'is_last_step': False, 'remaining_steps': 24}, version=None, metadata={'tags': ['graph:step:1'], 'langgraph_step': 1, 'langgraph_node': 'agent', 'langgraph_triggers': ['branch:to:agent'], 'langgraph_path': ['__pregel_pull', 'agent'], 'langgraph_checkpoint_ns': 'general:fc88c35c-7c5f-655a-b459-5a03c9f79598|agent:b20e3375-cd09-52a9-ac9a-0446d0a5f571', 'checkpoint_ns': 'general:fc88c35c-7c5f-655a-b459-5a03c9f79598', 'resourceAttributes': {'telemetry.sdk.language': 'python', 'telemetry.sdk.name': 'opentelemetry', 'telemetry.sdk.version': '1.34.1', 'service.name': 'unknown_service'}, 'scope': {'name': 'langfuse-sdk', 'version': '3.1.3', 'attributes': {'public_key': 'pk-lf-c7c009b0-3694-4f68-8072-289c4651b60d'}}}, output={'messages': [{'content': 'Please provide the city you told me earlier.', 'additional_kwargs': {}, 'response_metadata': {'prompt_feedback': {'block_reason': 0, 'safety_ratings': []}, 'finish_reason': 'STOP', 'safety_ratings': [{'category': 'HARM_CATEGORY_HATE_SPEECH', 'probability': 'NEGLIGIBLE', 'blocked': False}, {'category': 'HARM_CATEGORY_DANGEROUS_CONTENT', 'probability': 'NEGLIGIBLE', 'blocked': False}, {'category': 'HARM_CATEGORY_HARASSMENT', 'probability': 'NEGLIGIBLE', 'blocked': False}, {'category': 'HARM_CATEGORY_SEXUALLY_EXPLICIT', 'probability': 'NEGLIGIBLE', 'blocked': False}]}, 'type': 'ai', 'name': None, 'id': 'run--95fc104f-0df6-463a-8d10-d1de7893938b-0', 'example': False, 'tool_calls': [], 'invalid_tool_calls': [], 'usage_metadata': {'input_tokens': 647, 'output_tokens': 10, 'total_tokens': 657, 'input_token_details': {'cache_read': 0}}}]}, usage=Usage(input=0, output=0, total=0, unit=<ModelUsageUnit.TOKENS: 'TOKENS'>, input_cost=None, output_cost=None, total_cost=None), level=<ObservationLevel.DEFAULT: 'DEFAULT'>, status_message=None, parent_observation_id='09f0f2a04a3ae1cd', prompt_id=None, usage_details={}, cost_details={}, environment='default', prompt_name=None, prompt_version=None, model_id=None, input_price=0.0, output_price=0.0, total_price=0.0, calculated_input_cost=None, calculated_output_cost=None, calculated_total_cost=0.0, latency=692.0, time_to_first_token=None, completionTokens=0, updatedAt='2025-07-11T10:32:08.861Z', createdAt='2025-07-11T10:32:08.836Z', totalTokens=0, projectId='cmcw9nhci004nad06kf6dx7gz', promptTokens=0, unit='TOKENS'), ObservationsView(id='a7a47b1cef8fee43', trace_id='791067a9ef9baaa5c1285caca52b2744', type='GENERATION', name='ChatGoogleGenerativeAI', start_time=datetime.datetime(2025, 7, 11, 10, 32, 5, 211000, tzinfo=datetime.timezone.utc), end_time=datetime.datetime(2025, 7, 11, 10, 32, 5, 888000, tzinfo=datetime.timezone.utc), completion_start_time=None, model='models/gemini-1.5-flash-8b', model_parameters={'temperature': '0.7'}, input=[{'role': 'system', 'content': \"You are an expert AI travel assistant. Your goal is to resolve the user's request efficiently.\\nYour objective is to resolve the user’s request completely before ending your turn.\\n<INSTRUCTIONS>\\n1. Tool Usage  \\n   - If you lack information, use your tools to fetch and verify data.  \\n   - Never guess or hallucinate—always base your answer on gathered facts.\\n\\n2. Planning Before Action  \\n   - Before each function call, write a brief plan:  \\n     - What you intend to do  \\n     - Which tool or function you’ll use  \\n     - What inputs you’ll provide  \\n     - What outcome you expect\\n\\n3. Reflection After Action  \\n   - After every function call, analyze the result:  \\n     - Did it answer your question?  \\n     - What’s the next step?  \\n   - Update your plan as needed before proceeding.\\n\\n4. Sub‑agent Coordination\\n   - All sub‑agents report to you. You synthesize their outputs and craft the final message.\\n\\n5. Response Style  \\n   - Keep your voice clear, consistent, and user‑focused.  \\n   - Only conclude your turn once you’re certain the user’s problem is fully solved.\\n</INSTRUCTIONS>\\n\\nYou are a specialized sub-agent focused on a single task.\\nYour current task is to: **handle a general user request that did not fit a specific category**.\\n\\nReview the entire conversation history below to gather all necessary information (like booking IDs, destinations, or dates) to complete your task.\\n\\nConversation History:\\nai: Thanks for letting me know the departure city.  To help you plan your trip, please also tell me your travel dates, desired class of service (e.g., economy, business), and preferred airline.\\nhuman: what city I told you\"}, {'role': 'assistant', 'content': 'Thanks for letting me know the departure city.  To help you plan your trip, please also tell me your travel dates, desired class of service (e.g., economy, business), and preferred airline.'}, {'role': 'user', 'content': 'what city I told you'}, {'role': 'tool', 'content': {'type': 'function', 'function': {'name': 'book_flight_tool', 'description': 'Book a flight for the user. Must include destination in the query.', 'parameters': {'properties': {'query': {'type': 'string'}}, 'required': ['query'], 'type': 'object'}}}}, {'role': 'tool', 'content': {'type': 'function', 'function': {'name': 'cancel_booking_tool', 'description': 'Use this tool to cancel a flight or hotel booking when you have a booking ID.\\nDo not use this tool if you do not have a booking ID.', 'parameters': {'properties': {'booking_id': {'description': \"The booking confirmation number, which typically looks like 'BKG-123-XYZ'.\", 'type': 'string'}}, 'required': ['booking_id'], 'type': 'object'}}}}, {'role': 'tool', 'content': {'type': 'function', 'function': {'name': 'emergency_help_tool', 'description': 'Provide emergency support contact info or assistance.', 'parameters': {'properties': {'query': {'type': 'string'}}, 'required': ['query'], 'type': 'object'}}}}, {'role': 'tool', 'content': {'type': 'function', 'function': {'name': 'faq_tool', 'description': 'Use this tool to answer general questions about policies, services, or how to use the assistant.\\nIt searches a knowledge base of frequently asked questions.', 'parameters': {'properties': {'query': {'description': \"The user's question to search for in the FAQ knowledge base.\", 'type': 'string'}}, 'required': ['query'], 'type': 'object'}}}}, {'role': 'tool', 'content': {'type': 'function', 'function': {'name': 'flight_status_tool', 'description': 'Use this tool to check the real-time status of a specific flight.\\nYou must provide the flight number.', 'parameters': {'properties': {'flight_number': {'description': \"The flight number to check, for example, 'UA123' or 'BA456'.\", 'type': 'string'}}, 'required': ['flight_number'], 'type': 'object'}}}}], version=None, metadata={'tags': ['seq:step:2'], 'langgraph_step': 1, 'langgraph_node': 'agent', 'langgraph_triggers': ['branch:to:agent'], 'langgraph_path': ['__pregel_pull', 'agent'], 'langgraph_checkpoint_ns': 'general:fc88c35c-7c5f-655a-b459-5a03c9f79598|agent:b20e3375-cd09-52a9-ac9a-0446d0a5f571', 'checkpoint_ns': 'general:fc88c35c-7c5f-655a-b459-5a03c9f79598', 'ls_provider': 'google_genai', 'ls_model_name': 'models/gemini-1.5-flash-8b', 'ls_model_type': 'chat', 'ls_temperature': 0.7, 'resourceAttributes': {'telemetry.sdk.language': 'python', 'telemetry.sdk.name': 'opentelemetry', 'telemetry.sdk.version': '1.34.1', 'service.name': 'unknown_service'}, 'scope': {'name': 'langfuse-sdk', 'version': '3.1.3', 'attributes': {'public_key': 'pk-lf-c7c009b0-3694-4f68-8072-289c4651b60d'}}}, output={'role': 'assistant', 'content': 'Please provide the city you told me earlier.'}, usage=Usage(input=647, output=10, total=657, unit=<ModelUsageUnit.TOKENS: 'TOKENS'>, input_cost=None, output_cost=None, total_cost=None), level=<ObservationLevel.DEFAULT: 'DEFAULT'>, status_message=None, parent_observation_id='2516502cac3761b2', prompt_id=None, usage_details={'input': 647, 'output': 10, 'total': 657, 'input_cache_read': 0}, cost_details={}, environment='default', prompt_name=None, prompt_version=None, model_id=None, input_price=0.0, output_price=0.0, total_price=0.0, calculated_input_cost=None, calculated_output_cost=None, calculated_total_cost=0.0, latency=677.0, time_to_first_token=None, completionTokens=10, updatedAt='2025-07-11T10:32:08.859Z', createdAt='2025-07-11T10:32:08.836Z', totalTokens=657, projectId='cmcw9nhci004nad06kf6dx7gz', promptTokens=647, unit='TOKENS'), ObservationsView(id='45fbb86b95531442', trace_id='791067a9ef9baaa5c1285caca52b2744', type='SPAN', name='llm_router', start_time=datetime.datetime(2025, 7, 11, 10, 32, 4, 480000, tzinfo=datetime.timezone.utc), end_time=datetime.datetime(2025, 7, 11, 10, 32, 5, 152000, tzinfo=datetime.timezone.utc), completion_start_time=None, model=None, model_parameters=None, input={'original_query': 'what city i told you', 'detected_language': 'hi-translit', 'messages': [{'content': 'Thanks for letting me know the departure city.  To help you plan your trip, please also tell me your travel dates, desired class of service (e.g., economy, business), and preferred airline.', 'additional_kwargs': {}, 'response_metadata': {}, 'type': 'ai', 'name': None, 'id': None, 'example': False, 'tool_calls': [], 'invalid_tool_calls': [], 'usage_metadata': None}, {'content': 'what city I told you', 'additional_kwargs': {}, 'response_metadata': {}, 'type': 'human', 'name': None, 'id': None, 'example': False}]}, version=None, metadata={'tags': ['graph:step:1'], 'langgraph_step': 1, 'langgraph_node': 'llm_router', 'langgraph_triggers': ['branch:to:llm_router'], 'langgraph_path': ['__pregel_pull', 'llm_router'], 'langgraph_checkpoint_ns': 'llm_router:49d7aecc-e98a-903f-c605-c40864cc345b', 'resourceAttributes': {'telemetry.sdk.language': 'python', 'telemetry.sdk.name': 'opentelemetry', 'telemetry.sdk.version': '1.34.1', 'service.name': 'unknown_service'}, 'scope': {'name': 'langfuse-sdk', 'version': '3.1.3', 'attributes': {'public_key': 'pk-lf-c7c009b0-3694-4f68-8072-289c4651b60d'}}}, output={'intents': ['general'], 'confidence': 90}, usage=Usage(input=0, output=0, total=0, unit=<ModelUsageUnit.TOKENS: 'TOKENS'>, input_cost=None, output_cost=None, total_cost=None), level=<ObservationLevel.DEFAULT: 'DEFAULT'>, status_message=None, parent_observation_id='afed2fbae328f0e4', prompt_id=None, usage_details={}, cost_details={}, environment='default', prompt_name=None, prompt_version=None, model_id=None, input_price=0.0, output_price=0.0, total_price=0.0, calculated_input_cost=None, calculated_output_cost=None, calculated_total_cost=0.0, latency=672.0, time_to_first_token=None, completionTokens=0, updatedAt='2025-07-11T10:32:08.859Z', createdAt='2025-07-11T10:32:08.836Z', totalTokens=0, projectId='cmcw9nhci004nad06kf6dx7gz', promptTokens=0, unit='TOKENS'), ObservationsView(id='b45b5f0a4c9adb1a', trace_id='791067a9ef9baaa5c1285caca52b2744', type='SPAN', name='general', start_time=datetime.datetime(2025, 7, 11, 10, 32, 5, 154000, tzinfo=datetime.timezone.utc), end_time=datetime.datetime(2025, 7, 11, 10, 32, 5, 899000, tzinfo=datetime.timezone.utc), completion_start_time=None, model=None, model_parameters=None, input={'original_query': 'what city i told you', 'detected_language': 'hi-translit', 'messages': [{'content': 'Thanks for letting me know the departure city.  To help you plan your trip, please also tell me your travel dates, desired class of service (e.g., economy, business), and preferred airline.', 'additional_kwargs': {}, 'response_metadata': {}, 'type': 'ai', 'name': None, 'id': None, 'example': False, 'tool_calls': [], 'invalid_tool_calls': [], 'usage_metadata': None}, {'content': 'what city I told you', 'additional_kwargs': {}, 'response_metadata': {}, 'type': 'human', 'name': None, 'id': None, 'example': False}], 'intents': ['general'], 'confidence': 90}, version=None, metadata={'tags': ['graph:step:2'], 'langgraph_step': 2, 'langgraph_node': 'general', 'langgraph_triggers': ['branch:to:general'], 'langgraph_path': ['__pregel_pull', 'general'], 'langgraph_checkpoint_ns': 'general:fc88c35c-7c5f-655a-b459-5a03c9f79598', 'resourceAttributes': {'telemetry.sdk.language': 'python', 'telemetry.sdk.name': 'opentelemetry', 'telemetry.sdk.version': '1.34.1', 'service.name': 'unknown_service'}, 'scope': {'name': 'langfuse-sdk', 'version': '3.1.3', 'attributes': {'public_key': 'pk-lf-c7c009b0-3694-4f68-8072-289c4651b60d'}}}, output={'output': 'Please provide the city you told me earlier.', 'last_completed_intent': 'general'}, usage=Usage(input=0, output=0, total=0, unit=<ModelUsageUnit.TOKENS: 'TOKENS'>, input_cost=None, output_cost=None, total_cost=None), level=<ObservationLevel.DEFAULT: 'DEFAULT'>, status_message=None, parent_observation_id='afed2fbae328f0e4', prompt_id=None, usage_details={}, cost_details={}, environment='default', prompt_name=None, prompt_version=None, model_id=None, input_price=0.0, output_price=0.0, total_price=0.0, calculated_input_cost=None, calculated_output_cost=None, calculated_total_cost=0.0, latency=745.0, time_to_first_token=None, completionTokens=0, updatedAt='2025-07-11T10:32:08.859Z', createdAt='2025-07-11T10:32:08.836Z', totalTokens=0, projectId='cmcw9nhci004nad06kf6dx7gz', promptTokens=0, unit='TOKENS'), ObservationsView(id='5fff62575e4c6485', trace_id='791067a9ef9baaa5c1285caca52b2744', type='SPAN', name='aggregator', start_time=datetime.datetime(2025, 7, 11, 10, 32, 5, 900000, tzinfo=datetime.timezone.utc), end_time=datetime.datetime(2025, 7, 11, 10, 32, 5, 904000, tzinfo=datetime.timezone.utc), completion_start_time=None, model=None, model_parameters=None, input={'original_query': 'what city i told you', 'detected_language': 'hi-translit', 'messages': [{'content': 'Thanks for letting me know the departure city.  To help you plan your trip, please also tell me your travel dates, desired class of service (e.g., economy, business), and preferred airline.', 'additional_kwargs': {}, 'response_metadata': {}, 'type': 'ai', 'name': None, 'id': None, 'example': False, 'tool_calls': [], 'invalid_tool_calls': [], 'usage_metadata': None}, {'content': 'what city I told you', 'additional_kwargs': {}, 'response_metadata': {}, 'type': 'human', 'name': None, 'id': None, 'example': False}], 'intents': ['general'], 'confidence': 90, 'last_completed_intent': 'general', 'output': 'Please provide the city you told me earlier.'}, version=None, metadata={'tags': ['graph:step:3'], 'langgraph_step': 3, 'langgraph_node': 'aggregator', 'langgraph_triggers': ['branch:to:aggregator'], 'langgraph_path': ['__pregel_pull', 'aggregator'], 'langgraph_checkpoint_ns': 'aggregator:b50276d3-56f4-4c74-ba8c-3f145626e362', 'resourceAttributes': {'telemetry.sdk.language': 'python', 'telemetry.sdk.name': 'opentelemetry', 'telemetry.sdk.version': '1.34.1', 'service.name': 'unknown_service'}, 'scope': {'name': 'langfuse-sdk', 'version': '3.1.3', 'attributes': {'public_key': 'pk-lf-c7c009b0-3694-4f68-8072-289c4651b60d'}}}, output={'aggregated_output': 'Regarding General:\\nPlease provide the city you told me earlier.', 'processed_intents': ['general']}, usage=Usage(input=0, output=0, total=0, unit=<ModelUsageUnit.TOKENS: 'TOKENS'>, input_cost=None, output_cost=None, total_cost=None), level=<ObservationLevel.DEFAULT: 'DEFAULT'>, status_message=None, parent_observation_id='afed2fbae328f0e4', prompt_id=None, usage_details={}, cost_details={}, environment='default', prompt_name=None, prompt_version=None, model_id=None, input_price=0.0, output_price=0.0, total_price=0.0, calculated_input_cost=None, calculated_output_cost=None, calculated_total_cost=0.0, latency=4.0, time_to_first_token=None, completionTokens=0, updatedAt='2025-07-11T10:32:08.858Z', createdAt='2025-07-11T10:32:08.836Z', totalTokens=0, projectId='cmcw9nhci004nad06kf6dx7gz', promptTokens=0, unit='TOKENS'), ObservationsView(id='2516502cac3761b2', trace_id='791067a9ef9baaa5c1285caca52b2744', type='SPAN', name='RunnableSequence', start_time=datetime.datetime(2025, 7, 11, 10, 32, 5, 206000, tzinfo=datetime.timezone.utc), end_time=datetime.datetime(2025, 7, 11, 10, 32, 5, 889000, tzinfo=datetime.timezone.utc), completion_start_time=None, model=None, model_parameters=None, input={'messages': [{'content': \"You are an expert AI travel assistant. Your goal is to resolve the user's request efficiently.\\nYour objective is to resolve the user’s request completely before ending your turn.\\n<INSTRUCTIONS>\\n1. Tool Usage  \\n   - If you lack information, use your tools to fetch and verify data.  \\n   - Never guess or hallucinate—always base your answer on gathered facts.\\n\\n2. Planning Before Action  \\n   - Before each function call, write a brief plan:  \\n     - What you intend to do  \\n     - Which tool or function you’ll use  \\n     - What inputs you’ll provide  \\n     - What outcome you expect\\n\\n3. Reflection After Action  \\n   - After every function call, analyze the result:  \\n     - Did it answer your question?  \\n     - What’s the next step?  \\n   - Update your plan as needed before proceeding.\\n\\n4. Sub‑agent Coordination\\n   - All sub‑agents report to you. You synthesize their outputs and craft the final message.\\n\\n5. Response Style  \\n   - Keep your voice clear, consistent, and user‑focused.  \\n   - Only conclude your turn once you’re certain the user’s problem is fully solved.\\n</INSTRUCTIONS>\\n\\nYou are a specialized sub-agent focused on a single task.\\nYour current task is to: **handle a general user request that did not fit a specific category**.\\n\\nReview the entire conversation history below to gather all necessary information (like booking IDs, destinations, or dates) to complete your task.\\n\\nConversation History:\\nai: Thanks for letting me know the departure city.  To help you plan your trip, please also tell me your travel dates, desired class of service (e.g., economy, business), and preferred airline.\\nhuman: what city I told you\", 'additional_kwargs': {}, 'response_metadata': {}, 'type': 'system', 'name': None, 'id': '7cdaa282-e25b-491c-9f84-9974e8f618d7'}, {'content': 'Thanks for letting me know the departure city.  To help you plan your trip, please also tell me your travel dates, desired class of service (e.g., economy, business), and preferred airline.', 'additional_kwargs': {}, 'response_metadata': {}, 'type': 'ai', 'name': None, 'id': '3caad41b-5158-477c-9d23-f136d6bcd9cb', 'example': False, 'tool_calls': [], 'invalid_tool_calls': [], 'usage_metadata': None}, {'content': 'what city I told you', 'additional_kwargs': {}, 'response_metadata': {}, 'type': 'human', 'name': None, 'id': '8de1a14b-388e-41e2-adf7-fde355d2e145', 'example': False}], 'is_last_step': False, 'remaining_steps': 24}, version=None, metadata={'tags': ['seq:step:1'], 'langgraph_step': 1, 'langgraph_node': 'agent', 'langgraph_triggers': ['branch:to:agent'], 'langgraph_path': ['__pregel_pull', 'agent'], 'langgraph_checkpoint_ns': 'general:fc88c35c-7c5f-655a-b459-5a03c9f79598|agent:b20e3375-cd09-52a9-ac9a-0446d0a5f571', 'checkpoint_ns': 'general:fc88c35c-7c5f-655a-b459-5a03c9f79598', 'resourceAttributes': {'telemetry.sdk.language': 'python', 'telemetry.sdk.name': 'opentelemetry', 'telemetry.sdk.version': '1.34.1', 'service.name': 'unknown_service'}, 'scope': {'name': 'langfuse-sdk', 'version': '3.1.3', 'attributes': {'public_key': 'pk-lf-c7c009b0-3694-4f68-8072-289c4651b60d'}}}, output={'content': 'Please provide the city you told me earlier.', 'additional_kwargs': {}, 'response_metadata': {'prompt_feedback': {'block_reason': 0, 'safety_ratings': []}, 'finish_reason': 'STOP', 'safety_ratings': [{'category': 'HARM_CATEGORY_HATE_SPEECH', 'probability': 'NEGLIGIBLE', 'blocked': False}, {'category': 'HARM_CATEGORY_DANGEROUS_CONTENT', 'probability': 'NEGLIGIBLE', 'blocked': False}, {'category': 'HARM_CATEGORY_HARASSMENT', 'probability': 'NEGLIGIBLE', 'blocked': False}, {'category': 'HARM_CATEGORY_SEXUALLY_EXPLICIT', 'probability': 'NEGLIGIBLE', 'blocked': False}]}, 'type': 'ai', 'name': None, 'id': 'run--95fc104f-0df6-463a-8d10-d1de7893938b-0', 'example': False, 'tool_calls': [], 'invalid_tool_calls': [], 'usage_metadata': {'input_tokens': 647, 'output_tokens': 10, 'total_tokens': 657, 'input_token_details': {'cache_read': 0}}}, usage=Usage(input=0, output=0, total=0, unit=<ModelUsageUnit.TOKENS: 'TOKENS'>, input_cost=None, output_cost=None, total_cost=None), level=<ObservationLevel.DEFAULT: 'DEFAULT'>, status_message=None, parent_observation_id='b951556c46b27827', prompt_id=None, usage_details={}, cost_details={}, environment='default', prompt_name=None, prompt_version=None, model_id=None, input_price=0.0, output_price=0.0, total_price=0.0, calculated_input_cost=None, calculated_output_cost=None, calculated_total_cost=0.0, latency=683.0, time_to_first_token=None, completionTokens=0, updatedAt='2025-07-11T10:32:08.857Z', createdAt='2025-07-11T10:32:08.836Z', totalTokens=0, projectId='cmcw9nhci004nad06kf6dx7gz', promptTokens=0, unit='TOKENS'), ObservationsView(id='55dacfccb3e3b79c', trace_id='791067a9ef9baaa5c1285caca52b2744', type='SPAN', name='call_model', start_time=datetime.datetime(2025, 7, 11, 10, 32, 5, 204000, tzinfo=datetime.timezone.utc), end_time=datetime.datetime(2025, 7, 11, 10, 32, 5, 891000, tzinfo=datetime.timezone.utc), completion_start_time=None, model=None, model_parameters=None, input={'messages': [{'content': \"You are an expert AI travel assistant. Your goal is to resolve the user's request efficiently.\\nYour objective is to resolve the user’s request completely before ending your turn.\\n<INSTRUCTIONS>\\n1. Tool Usage  \\n   - If you lack information, use your tools to fetch and verify data.  \\n   - Never guess or hallucinate—always base your answer on gathered facts.\\n\\n2. Planning Before Action  \\n   - Before each function call, write a brief plan:  \\n     - What you intend to do  \\n     - Which tool or function you’ll use  \\n     - What inputs you’ll provide  \\n     - What outcome you expect\\n\\n3. Reflection After Action  \\n   - After every function call, analyze the result:  \\n     - Did it answer your question?  \\n     - What’s the next step?  \\n   - Update your plan as needed before proceeding.\\n\\n4. Sub‑agent Coordination\\n   - All sub‑agents report to you. You synthesize their outputs and craft the final message.\\n\\n5. Response Style  \\n   - Keep your voice clear, consistent, and user‑focused.  \\n   - Only conclude your turn once you’re certain the user’s problem is fully solved.\\n</INSTRUCTIONS>\\n\\nYou are a specialized sub-agent focused on a single task.\\nYour current task is to: **handle a general user request that did not fit a specific category**.\\n\\nReview the entire conversation history below to gather all necessary information (like booking IDs, destinations, or dates) to complete your task.\\n\\nConversation History:\\nai: Thanks for letting me know the departure city.  To help you plan your trip, please also tell me your travel dates, desired class of service (e.g., economy, business), and preferred airline.\\nhuman: what city I told you\", 'additional_kwargs': {}, 'response_metadata': {}, 'type': 'system', 'name': None, 'id': '7cdaa282-e25b-491c-9f84-9974e8f618d7'}, {'content': 'Thanks for letting me know the departure city.  To help you plan your trip, please also tell me your travel dates, desired class of service (e.g., economy, business), and preferred airline.', 'additional_kwargs': {}, 'response_metadata': {}, 'type': 'ai', 'name': None, 'id': '3caad41b-5158-477c-9d23-f136d6bcd9cb', 'example': False, 'tool_calls': [], 'invalid_tool_calls': [], 'usage_metadata': None}, {'content': 'what city I told you', 'additional_kwargs': {}, 'response_metadata': {}, 'type': 'human', 'name': None, 'id': '8de1a14b-388e-41e2-adf7-fde355d2e145', 'example': False}], 'is_last_step': False, 'remaining_steps': 24}, version=None, metadata={'tags': ['seq:step:1'], 'langgraph_step': 1, 'langgraph_node': 'agent', 'langgraph_triggers': ['branch:to:agent'], 'langgraph_path': ['__pregel_pull', 'agent'], 'langgraph_checkpoint_ns': 'general:fc88c35c-7c5f-655a-b459-5a03c9f79598|agent:b20e3375-cd09-52a9-ac9a-0446d0a5f571', 'checkpoint_ns': 'general:fc88c35c-7c5f-655a-b459-5a03c9f79598', 'resourceAttributes': {'telemetry.sdk.language': 'python', 'telemetry.sdk.name': 'opentelemetry', 'telemetry.sdk.version': '1.34.1', 'service.name': 'unknown_service'}, 'scope': {'name': 'langfuse-sdk', 'version': '3.1.3', 'attributes': {'public_key': 'pk-lf-c7c009b0-3694-4f68-8072-289c4651b60d'}}}, output={'messages': [{'content': 'Please provide the city you told me earlier.', 'additional_kwargs': {}, 'response_metadata': {'prompt_feedback': {'block_reason': 0, 'safety_ratings': []}, 'finish_reason': 'STOP', 'safety_ratings': [{'category': 'HARM_CATEGORY_HATE_SPEECH', 'probability': 'NEGLIGIBLE', 'blocked': False}, {'category': 'HARM_CATEGORY_DANGEROUS_CONTENT', 'probability': 'NEGLIGIBLE', 'blocked': False}, {'category': 'HARM_CATEGORY_HARASSMENT', 'probability': 'NEGLIGIBLE', 'blocked': False}, {'category': 'HARM_CATEGORY_SEXUALLY_EXPLICIT', 'probability': 'NEGLIGIBLE', 'blocked': False}]}, 'type': 'ai', 'name': None, 'id': 'run--95fc104f-0df6-463a-8d10-d1de7893938b-0', 'example': False, 'tool_calls': [], 'invalid_tool_calls': [], 'usage_metadata': {'input_tokens': 647, 'output_tokens': 10, 'total_tokens': 657, 'input_token_details': {'cache_read': 0}}}]}, usage=Usage(input=0, output=0, total=0, unit=<ModelUsageUnit.TOKENS: 'TOKENS'>, input_cost=None, output_cost=None, total_cost=None), level=<ObservationLevel.DEFAULT: 'DEFAULT'>, status_message=None, parent_observation_id='b951556c46b27827', prompt_id=None, usage_details={}, cost_details={}, environment='default', prompt_name=None, prompt_version=None, model_id=None, input_price=0.0, output_price=0.0, total_price=0.0, calculated_input_cost=None, calculated_output_cost=None, calculated_total_cost=0.0, latency=687.0, time_to_first_token=None, completionTokens=0, updatedAt='2025-07-11T10:32:08.854Z', createdAt='2025-07-11T10:32:08.836Z', totalTokens=0, projectId='cmcw9nhci004nad06kf6dx7gz', promptTokens=0, unit='TOKENS')], scores=[], updatedAt='2025-07-11T10:32:14.355Z', bookmarked=False, createdAt='2025-07-11T10:32:09.000Z', projectId='cmcw9nhci004nad06kf6dx7gz', externalId=None)\n"
     ]
    }
   ],
   "source": [
    "if latest_trace:\n",
    "    # Print the entire object\n",
    "    from pprint import pprint\n",
    "    pprint(latest_trace)"
   ]
  },
  {
   "cell_type": "code",
   "execution_count": 9,
   "metadata": {},
   "outputs": [
    {
     "name": "stdout",
     "output_type": "stream",
     "text": [
      "<class 'langfuse.api.resources.commons.types.trace_with_full_details.TraceWithFullDetails'>\n"
     ]
    }
   ],
   "source": [
    "print(type(latest_trace))"
   ]
  },
  {
   "cell_type": "code",
   "execution_count": 13,
   "metadata": {},
   "outputs": [],
   "source": [
    "latest_trace_df = pd.DataFrame([vars(latest_trace)])"
   ]
  },
  {
   "cell_type": "code",
   "execution_count": 14,
   "metadata": {},
   "outputs": [
    {
     "data": {
      "text/html": [
       "<div>\n",
       "<style scoped>\n",
       "    .dataframe tbody tr th:only-of-type {\n",
       "        vertical-align: middle;\n",
       "    }\n",
       "\n",
       "    .dataframe tbody tr th {\n",
       "        vertical-align: top;\n",
       "    }\n",
       "\n",
       "    .dataframe thead th {\n",
       "        text-align: right;\n",
       "    }\n",
       "</style>\n",
       "<table border=\"1\" class=\"dataframe\">\n",
       "  <thead>\n",
       "    <tr style=\"text-align: right;\">\n",
       "      <th></th>\n",
       "      <th>id</th>\n",
       "      <th>timestamp</th>\n",
       "      <th>name</th>\n",
       "      <th>input</th>\n",
       "      <th>output</th>\n",
       "      <th>session_id</th>\n",
       "      <th>release</th>\n",
       "      <th>version</th>\n",
       "      <th>user_id</th>\n",
       "      <th>metadata</th>\n",
       "      <th>...</th>\n",
       "      <th>html_path</th>\n",
       "      <th>latency</th>\n",
       "      <th>total_cost</th>\n",
       "      <th>observations</th>\n",
       "      <th>scores</th>\n",
       "      <th>updatedAt</th>\n",
       "      <th>bookmarked</th>\n",
       "      <th>createdAt</th>\n",
       "      <th>projectId</th>\n",
       "      <th>externalId</th>\n",
       "    </tr>\n",
       "  </thead>\n",
       "  <tbody>\n",
       "    <tr>\n",
       "      <th>0</th>\n",
       "      <td>791067a9ef9baaa5c1285caca52b2744</td>\n",
       "      <td>2025-07-11 10:32:04.478000+00:00</td>\n",
       "      <td>LangGraph</td>\n",
       "      <td>{'messages': [{'content': 'Thanks for letting ...</td>\n",
       "      <td>None</td>\n",
       "      <td>None</td>\n",
       "      <td>None</td>\n",
       "      <td>None</td>\n",
       "      <td>None</td>\n",
       "      <td>{'resourceAttributes': {'telemetry.sdk.languag...</td>\n",
       "      <td>...</td>\n",
       "      <td>/project/cmcw9nhci004nad06kf6dx7gz/traces/7910...</td>\n",
       "      <td>4.034</td>\n",
       "      <td>0.0</td>\n",
       "      <td>[id='afed2fbae328f0e4' trace_id='791067a9ef9ba...</td>\n",
       "      <td>[]</td>\n",
       "      <td>2025-07-11T10:32:14.355Z</td>\n",
       "      <td>False</td>\n",
       "      <td>2025-07-11T10:32:09.000Z</td>\n",
       "      <td>cmcw9nhci004nad06kf6dx7gz</td>\n",
       "      <td>None</td>\n",
       "    </tr>\n",
       "  </tbody>\n",
       "</table>\n",
       "<p>1 rows × 23 columns</p>\n",
       "</div>"
      ],
      "text/plain": [
       "                                 id                        timestamp  \\\n",
       "0  791067a9ef9baaa5c1285caca52b2744 2025-07-11 10:32:04.478000+00:00   \n",
       "\n",
       "        name                                              input output  \\\n",
       "0  LangGraph  {'messages': [{'content': 'Thanks for letting ...   None   \n",
       "\n",
       "  session_id release version user_id  \\\n",
       "0       None    None    None    None   \n",
       "\n",
       "                                            metadata  ...  \\\n",
       "0  {'resourceAttributes': {'telemetry.sdk.languag...  ...   \n",
       "\n",
       "                                           html_path  latency total_cost  \\\n",
       "0  /project/cmcw9nhci004nad06kf6dx7gz/traces/7910...    4.034        0.0   \n",
       "\n",
       "                                        observations  scores  \\\n",
       "0  [id='afed2fbae328f0e4' trace_id='791067a9ef9ba...      []   \n",
       "\n",
       "                  updatedAt bookmarked                 createdAt  \\\n",
       "0  2025-07-11T10:32:14.355Z      False  2025-07-11T10:32:09.000Z   \n",
       "\n",
       "                   projectId  externalId  \n",
       "0  cmcw9nhci004nad06kf6dx7gz        None  \n",
       "\n",
       "[1 rows x 23 columns]"
      ]
     },
     "execution_count": 14,
     "metadata": {},
     "output_type": "execute_result"
    }
   ],
   "source": [
    "latest_trace_df"
   ]
  },
  {
   "cell_type": "code",
   "execution_count": 10,
   "metadata": {},
   "outputs": [
    {
     "ename": "AttributeError",
     "evalue": "'TraceWithFullDetails' object has no attribute 'to_dict'",
     "output_type": "error",
     "traceback": [
      "\u001b[1;31m---------------------------------------------------------------------------\u001b[0m",
      "\u001b[1;31mAttributeError\u001b[0m                            Traceback (most recent call last)",
      "Cell \u001b[1;32mIn[10], line 1\u001b[0m\n\u001b[1;32m----> 1\u001b[0m latest_trace_df \u001b[38;5;241m=\u001b[39m pd\u001b[38;5;241m.\u001b[39mDataFrame([\u001b[43mlatest_trace\u001b[49m\u001b[38;5;241;43m.\u001b[39;49m\u001b[43mto_dict\u001b[49m()])\n",
      "\u001b[1;31mAttributeError\u001b[0m: 'TraceWithFullDetails' object has no attribute 'to_dict'"
     ]
    }
   ],
   "source": [
    "latest_trace_df = pd.DataFrame([latest_trace.to_dict()])"
   ]
  },
  {
   "cell_type": "markdown",
   "metadata": {},
   "source": [
    "### 5. Access Specific Fields\n",
    "\n",
    "Here's how you can access the key fields that are most useful for your dashboard."
   ]
  },
  {
   "cell_type": "code",
   "execution_count": 4,
   "metadata": {},
   "outputs": [
    {
     "name": "stdout",
     "output_type": "stream",
     "text": [
      "Trace ID: 6364dfe204b6da3a5e229fc7c0a02bb9\n",
      "Timestamp: 2025-07-10 11:32:17.238000+00:00\n",
      "User ID: None\n",
      "Number of Observations: 17\n",
      "\n",
      "--- Input Object ---\n"
     ]
    },
    {
     "data": {
      "text/html": [
       "<div>\n",
       "<style scoped>\n",
       "    .dataframe tbody tr th:only-of-type {\n",
       "        vertical-align: middle;\n",
       "    }\n",
       "\n",
       "    .dataframe tbody tr th {\n",
       "        vertical-align: top;\n",
       "    }\n",
       "\n",
       "    .dataframe thead th {\n",
       "        text-align: right;\n",
       "    }\n",
       "</style>\n",
       "<table border=\"1\" class=\"dataframe\">\n",
       "  <thead>\n",
       "    <tr style=\"text-align: right;\">\n",
       "      <th></th>\n",
       "      <th>Value</th>\n",
       "    </tr>\n",
       "  </thead>\n",
       "  <tbody>\n",
       "    <tr>\n",
       "      <th>messages</th>\n",
       "      <td>[{'content': 'testing just to see if its worki...</td>\n",
       "    </tr>\n",
       "    <tr>\n",
       "      <th>detected_language</th>\n",
       "      <td>en</td>\n",
       "    </tr>\n",
       "    <tr>\n",
       "      <th>original_query</th>\n",
       "      <td>testing just to see if its working or not</td>\n",
       "    </tr>\n",
       "  </tbody>\n",
       "</table>\n",
       "</div>"
      ],
      "text/plain": [
       "                                                               Value\n",
       "messages           [{'content': 'testing just to see if its worki...\n",
       "detected_language                                                 en\n",
       "original_query             testing just to see if its working or not"
      ]
     },
     "metadata": {},
     "output_type": "display_data"
    },
    {
     "name": "stdout",
     "output_type": "stream",
     "text": [
      "\n",
      "--- Output Object ---\n"
     ]
    },
    {
     "data": {
      "text/html": [
       "<div>\n",
       "<style scoped>\n",
       "    .dataframe tbody tr th:only-of-type {\n",
       "        vertical-align: middle;\n",
       "    }\n",
       "\n",
       "    .dataframe tbody tr th {\n",
       "        vertical-align: top;\n",
       "    }\n",
       "\n",
       "    .dataframe thead th {\n",
       "        text-align: right;\n",
       "    }\n",
       "</style>\n",
       "<table border=\"1\" class=\"dataframe\">\n",
       "  <thead>\n",
       "    <tr style=\"text-align: right;\">\n",
       "      <th></th>\n",
       "      <th>Value</th>\n",
       "    </tr>\n",
       "  </thead>\n",
       "  <tbody>\n",
       "    <tr>\n",
       "      <th>original_query</th>\n",
       "      <td>testing just to see if its working or not</td>\n",
       "    </tr>\n",
       "    <tr>\n",
       "      <th>detected_language</th>\n",
       "      <td>en</td>\n",
       "    </tr>\n",
       "    <tr>\n",
       "      <th>messages</th>\n",
       "      <td>[{'content': 'Yes, the system is working!  Is ...</td>\n",
       "    </tr>\n",
       "    <tr>\n",
       "      <th>intents</th>\n",
       "      <td>[general]</td>\n",
       "    </tr>\n",
       "    <tr>\n",
       "      <th>confidence</th>\n",
       "      <td>90</td>\n",
       "    </tr>\n",
       "    <tr>\n",
       "      <th>processed_intents</th>\n",
       "      <td>[general]</td>\n",
       "    </tr>\n",
       "    <tr>\n",
       "      <th>last_completed_intent</th>\n",
       "      <td>general</td>\n",
       "    </tr>\n",
       "    <tr>\n",
       "      <th>output</th>\n",
       "      <td>The system is working.  Is there anything else...</td>\n",
       "    </tr>\n",
       "    <tr>\n",
       "      <th>aggregated_output</th>\n",
       "      <td>Yes, the system is working!  Is there anything...</td>\n",
       "    </tr>\n",
       "  </tbody>\n",
       "</table>\n",
       "</div>"
      ],
      "text/plain": [
       "                                                                   Value\n",
       "original_query                 testing just to see if its working or not\n",
       "detected_language                                                     en\n",
       "messages               [{'content': 'Yes, the system is working!  Is ...\n",
       "intents                                                        [general]\n",
       "confidence                                                            90\n",
       "processed_intents                                              [general]\n",
       "last_completed_intent                                            general\n",
       "output                 The system is working.  Is there anything else...\n",
       "aggregated_output      Yes, the system is working!  Is there anything..."
      ]
     },
     "metadata": {},
     "output_type": "display_data"
    },
    {
     "name": "stdout",
     "output_type": "stream",
     "text": [
      "\n",
      "--- Metadata Object ---\n"
     ]
    },
    {
     "data": {
      "text/html": [
       "<div>\n",
       "<style scoped>\n",
       "    .dataframe tbody tr th:only-of-type {\n",
       "        vertical-align: middle;\n",
       "    }\n",
       "\n",
       "    .dataframe tbody tr th {\n",
       "        vertical-align: top;\n",
       "    }\n",
       "\n",
       "    .dataframe thead th {\n",
       "        text-align: right;\n",
       "    }\n",
       "</style>\n",
       "<table border=\"1\" class=\"dataframe\">\n",
       "  <thead>\n",
       "    <tr style=\"text-align: right;\">\n",
       "      <th></th>\n",
       "      <th>Value</th>\n",
       "    </tr>\n",
       "  </thead>\n",
       "  <tbody>\n",
       "    <tr>\n",
       "      <th>resourceAttributes</th>\n",
       "      <td>{'telemetry.sdk.language': 'python', 'telemetr...</td>\n",
       "    </tr>\n",
       "    <tr>\n",
       "      <th>scope</th>\n",
       "      <td>{'name': 'langfuse-sdk', 'version': '3.1.3', '...</td>\n",
       "    </tr>\n",
       "  </tbody>\n",
       "</table>\n",
       "</div>"
      ],
      "text/plain": [
       "                                                                Value\n",
       "resourceAttributes  {'telemetry.sdk.language': 'python', 'telemetr...\n",
       "scope               {'name': 'langfuse-sdk', 'version': '3.1.3', '..."
      ]
     },
     "metadata": {},
     "output_type": "display_data"
    }
   ],
   "source": [
    "if latest_trace:\n",
    "    print(f\"Trace ID: {latest_trace.id}\")\n",
    "    print(f\"Timestamp: {latest_trace.timestamp}\")\n",
    "    print(f\"User ID: {latest_trace.user_id}\")\n",
    "    print(f\"Number of Observations: {len(latest_trace.observations)}\")\n",
    "    \n",
    "    print(\"\\n--- Input Object ---\")\n",
    "    # Using pandas to pretty-print the dictionary\n",
    "    display(pd.Series(latest_trace.input).to_frame('Value'))\n",
    "\n",
    "    print(\"\\n--- Output Object ---\")\n",
    "    display(pd.Series(latest_trace.output).to_frame('Value'))\n",
    "    \n",
    "    print(\"\\n--- Metadata Object ---\")\n",
    "    # Metadata is only present if you add it via trace.update() or similar\n",
    "    if latest_trace.metadata:\n",
    "        display(pd.Series(latest_trace.metadata).to_frame('Value'))\n",
    "    else:\n",
    "        print(\"No custom metadata found on this trace.\")"
   ]
  },
  {
   "cell_type": "code",
   "execution_count": 6,
   "metadata": {},
   "outputs": [
    {
     "name": "stdout",
     "output_type": "stream",
     "text": [
      "Yes, the system is working!  Is there anything else I can assist you with?\n"
     ]
    }
   ],
   "source": [
    "print(latest_trace.output.get(\"aggregated_output\", \"N/A\"))"
   ]
  }
 ],
 "metadata": {
  "kernelspec": {
   "display_name": "machine_learning",
   "language": "python",
   "name": "python3"
  },
  "language_info": {
   "codemirror_mode": {
    "name": "ipython",
    "version": 3
   },
   "file_extension": ".py",
   "mimetype": "text/x-python",
   "name": "python",
   "nbconvert_exporter": "python",
   "pygments_lexer": "ipython3",
   "version": "3.10.16"
  }
 },
 "nbformat": 4,
 "nbformat_minor": 2
}
